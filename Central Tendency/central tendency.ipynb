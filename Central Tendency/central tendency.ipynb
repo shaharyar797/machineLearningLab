{
 "cells": [
  {
   "cell_type": "code",
   "execution_count": 1,
   "id": "4238a4a7-992d-4cce-a6c9-3c54879ba26f",
   "metadata": {},
   "outputs": [],
   "source": [
    "import pandas as pd\n",
    "import numpy as np"
   ]
  },
  {
   "cell_type": "code",
   "execution_count": 6,
   "id": "87fe1bb1-fc5a-4e72-88f7-b4cfbf7198f2",
   "metadata": {},
   "outputs": [],
   "source": [
    "class central_tendency:\n",
    "    \n",
    "  def __init__(self,data):\n",
    "    self.x = data.iloc[:,0].values\n",
    "    self.y = data.iloc[:,1].values\n",
    "    self.l_x = len(self.x)\n",
    "    self.l_y = len(self.y)\n",
    "  \n",
    "  def median(self):\n",
    "    nx = len(self.x)\n",
    "    ny = len(self.y)\n",
    "    med_x = 0.0\n",
    "    self.x.sort()\n",
    "    if nx%2==0:\n",
    "      med_x = (self.x[int((nx/2)-1)] + self.x[int((nx/2)+1-1)])/2\n",
    "    else:\n",
    "      med_x = self.x[int(((nx+1)/2)-1)]\n",
    "    med_y = 0.0\n",
    "    self.y.sort()\n",
    "    if ny%2==0:\n",
    "      med_y = (self.y[int((ny/2)-1)] + self.y[int((ny/2)+1-1)])/2\n",
    "    else:\n",
    "      med_y = self.y[int(((ny+1)/2)-1)]\n",
    "    return med_x,med_y\n",
    "\n",
    "  def mean(self):\n",
    "    sum_x = 0\n",
    "    for i in range(0,self.l_x):\n",
    "      sum_x += self.x[i]\n",
    "    mean_x = sum_x / self.l_x\n",
    "    sum_y = 0\n",
    "    for i in range(0,self.l_y):\n",
    "      sum_y += self.y[i]\n",
    "    mean_y = sum_y / self.l_y\n",
    "    return mean_x,mean_y\n",
    "\n",
    "  def mode(self):\n",
    "    d = {}\n",
    "    max = 0\n",
    "    modeX = 0\n",
    "    modeY = 0\n",
    "    for i in range(0,self.l_x):\n",
    "        key = self.x[i]\n",
    "        if self.x[i] not in d.keys():\n",
    "            d[int(self.x[i])] = 1\n",
    "        else:\n",
    "            d[int(self.x[i])] += 1\n",
    "    for i in d.keys():\n",
    "        if d[i] > max:\n",
    "            max = d[i]\n",
    "            modeX = i\n",
    "    max = 0\n",
    "    for i in range(0,self.l_y):\n",
    "        key = self.y[i]\n",
    "        if self.y[i] not in d.keys():\n",
    "            d[int(self.y[i])] = 1\n",
    "        else:\n",
    "            d[int(self.y[i])] += 1\n",
    "    for i in d.keys():\n",
    "        if d[i] > max:\n",
    "            max = d[i]\n",
    "            modeY = i\n",
    "    return modeX,modeY\n",
    "  \n",
    "  def variance(self):\n",
    "    mean_x = self.mean()[0]\n",
    "    variance_x = 0.0\n",
    "    sum_x = 0\n",
    "    for i in range(0,self.l_x):\n",
    "        sum_x += (self.x[i] - mean_x)**2\n",
    "    variance_x = sum_x / self.l_x\n",
    "    mean_y = self.mean()[1]\n",
    "    variance_y = 0.0\n",
    "    sum_y = 0\n",
    "    for i in range(0,self.l_y):\n",
    "        sum_y += (self.y[i] - mean_y)**2\n",
    "    variance_y = sum_y / self.l_y\n",
    "    return variance_x,variance_y\n",
    "  \n",
    "  def standard_deviation(self):\n",
    "    import math\n",
    "    return math.sqrt(self.variance()[0]),math.sqrt(self.variance()[1])"
   ]
  },
  {
   "cell_type": "code",
   "execution_count": 7,
   "id": "51bd0af9-cb82-4a64-a76b-5d912443a25b",
   "metadata": {},
   "outputs": [],
   "source": [
    "data = pd.read_excel('data.xlsx')"
   ]
  },
  {
   "cell_type": "code",
   "execution_count": 8,
   "id": "45c4abf6-25f4-46e5-a1b6-2a838e2718bf",
   "metadata": {},
   "outputs": [],
   "source": [
    "obj = central_tendency(data)"
   ]
  },
  {
   "cell_type": "code",
   "execution_count": 10,
   "id": "ec428e76-bb9b-4742-a8ea-d7e5a15a5091",
   "metadata": {},
   "outputs": [
    {
     "name": "stdout",
     "output_type": "stream",
     "text": [
      "Median of X and Y :  (61.0, 51.5)\n",
      "Mean of X and Y :  (56.2, 53.00769230769231)\n",
      "Mode of X and Y :  (66, 61)\n",
      "Variance of X and Y :  (586.7753846153842, 725.4537869822491)\n",
      "Standard Deviation of X and Y :  (24.223447001105853, 26.93424933021615)\n"
     ]
    }
   ],
   "source": [
    "print(\"Median of X and Y : \",obj.median())\n",
    "print(\"Mean of X and Y : \",obj.mean())\n",
    "print(\"Mode of X and Y : \",obj.mode())\n",
    "print(\"Variance of X and Y : \",obj.variance())\n",
    "print(\"Standard Deviation of X and Y : \",obj.standard_deviation())"
   ]
  },
  {
   "cell_type": "code",
   "execution_count": null,
   "id": "dc993f80-73c6-4335-8412-b323343573ca",
   "metadata": {},
   "outputs": [],
   "source": [
    "\n"
   ]
  },
  {
   "cell_type": "code",
   "execution_count": null,
   "id": "1fd615e7-30fd-43a2-bdcd-7f608dd2705b",
   "metadata": {},
   "outputs": [],
   "source": []
  },
  {
   "cell_type": "code",
   "execution_count": null,
   "id": "d9c360c0-c1e2-4c1c-b46a-dcada60aefab",
   "metadata": {},
   "outputs": [],
   "source": []
  }
 ],
 "metadata": {
  "kernelspec": {
   "display_name": "Python 3.11.0 64-bit",
   "language": "python",
   "name": "python3"
  },
  "language_info": {
   "codemirror_mode": {
    "name": "ipython",
    "version": 3
   },
   "file_extension": ".py",
   "mimetype": "text/x-python",
   "name": "python",
   "nbconvert_exporter": "python",
   "pygments_lexer": "ipython3",
   "version": "3.11.0"
  },
  "vscode": {
   "interpreter": {
    "hash": "b98f472bb8ba48098397e3b897b5be76f7bf0e62d98845cdb0e8066dc5677259"
   }
  }
 },
 "nbformat": 4,
 "nbformat_minor": 5
}
